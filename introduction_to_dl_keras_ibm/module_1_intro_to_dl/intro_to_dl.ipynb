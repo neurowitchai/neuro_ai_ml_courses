{
 "cells": [
  {
   "cell_type": "markdown",
   "id": "db8fe7f8-cab5-4c84-9f95-3f547f341a6e",
   "metadata": {},
   "source": [
    "# Artificial Neural Networks"
   ]
  },
  {
   "cell_type": "markdown",
   "id": "379062ba-6bc5-4392-a3f7-c7f4d29a2bd3",
   "metadata": {},
   "source": [
    "## Build Neural Network"
   ]
  },
  {
   "cell_type": "markdown",
   "id": "466aa273-dfb9-4461-87b2-83ba06825761",
   "metadata": {},
   "source": [
    "Define structure of the network. A neural network makes predictions through the forward propagation process.\n",
    "\n",
    "### Objective for this Notebook\n",
    "* Build a Neural Network\n",
    "* Compute Weighted Sum at Each Node\n",
    "* Compute Node Activation\n",
    "* Use Forward Propagation to Propagate Data"
   ]
  },
  {
   "cell_type": "code",
   "execution_count": 2,
   "id": "9a354397-6ccb-439e-9779-d9c1f1abeb9a",
   "metadata": {},
   "outputs": [],
   "source": [
    "n = 2      # number of inputs\n",
    "num_hidden_layers = 2\n",
    "m = [2, 2] # number of nodes in each layer\n",
    "num_nodes_output = 1  # nodes in output layer"
   ]
  },
  {
   "cell_type": "code",
   "execution_count": 3,
   "id": "b5c7ab3f-81df-453f-be79-c3143966d76e",
   "metadata": {},
   "outputs": [
    {
     "name": "stdout",
     "output_type": "stream",
     "text": [
      "{'layer_1': {'node_1': {'weights': array([0.15, 0.62]), 'bias': array([0.56])}, 'node_2': {'weights': array([0.8 , 0.78]), 'bias': array([0.94])}}, 'layer_2': {'node_1': {'weights': array([0.11, 0.81]), 'bias': array([0.23])}, 'node_2': {'weights': array([0.51, 0.8 ]), 'bias': array([0.49])}}, 'output': {'node_1': {'weights': array([0.95, 0.7 ]), 'bias': array([0.13])}}}\n"
     ]
    }
   ],
   "source": [
    "import numpy as np\n",
    "\n",
    "num_nodes_previous = n\n",
    "\n",
    "network = {}  # initialize network to empty dictionary\n",
    "\n",
    "# loop through each layer and randomly initialize the weights and biases associated with each node\n",
    "# notice how we are adding 1 to the number of hidden layers in order to include the output layer\n",
    "for layer in range(num_hidden_layers + 1): \n",
    "    \n",
    "    # determine name of layer\n",
    "    if layer == num_hidden_layers:\n",
    "        layer_name = 'output'\n",
    "        num_nodes = num_nodes_output\n",
    "    else:\n",
    "        layer_name = 'layer_{}'.format(layer + 1)\n",
    "        num_nodes = m[layer]\n",
    "    \n",
    "    # initialize weights and biases associated with each node in the current layer\n",
    "    network[layer_name] = {}\n",
    "    for node in range(num_nodes):\n",
    "        node_name = 'node_{}'.format(node+1)\n",
    "        network[layer_name][node_name] = {\n",
    "            'weights': np.around(np.random.uniform(size=num_nodes_previous), decimals=2),\n",
    "            'bias': np.around(np.random.uniform(size=1), decimals=2),\n",
    "        }\n",
    "    \n",
    "    num_nodes_previous = num_nodes\n",
    "    \n",
    "print(network) # print network"
   ]
  },
  {
   "cell_type": "code",
   "execution_count": 4,
   "id": "dd0a0d97-fb59-4594-b16d-10ba777ec542",
   "metadata": {},
   "outputs": [],
   "source": [
    "# move code into function so we can execute\n",
    "def initialize_network(num_inputs, num_hidden_layers, num_nodes_hidden, num_nodes_ouptut):\n",
    "\n",
    "    num_nodes_previous = num_inputs # number of nodes in the previous layer\n",
    "\n",
    "    network = {}\n",
    "    \n",
    "    # loop through each layer and randomly initialize the weights and biases associated with each layer\n",
    "    for layer in range(num_hidden_layers + 1):\n",
    "        \n",
    "        if layer == num_hidden_layers:\n",
    "            layer_name = 'output' # name last layer in the network output\n",
    "            num_nodes = num_nodes_output\n",
    "        else:\n",
    "            layer_name = 'layer_{}'.format(layer + 1) # otherwise give the layer a number\n",
    "            num_nodes = num_nodes_hidden[layer] \n",
    "        \n",
    "        # initialize weights and bias for each node\n",
    "        network[layer_name] = {}\n",
    "        for node in range(num_nodes):\n",
    "            node_name = 'node_{}'.format(node+1)\n",
    "            network[layer_name][node_name] = {\n",
    "                'weights': np.around(np.random.uniform(size=num_nodes_previous), decimals=2),\n",
    "                'bias': np.around(np.random.uniform(size=1), decimals=2),\n",
    "            }\n",
    "    \n",
    "        num_nodes_previous = num_nodes\n",
    "\n",
    "    return network # return the network"
   ]
  },
  {
   "cell_type": "code",
   "execution_count": 5,
   "id": "38b10f3a-8654-4576-8bcd-a9f0a1757a8b",
   "metadata": {},
   "outputs": [],
   "source": [
    "small_network = initialize_network(5, 3, [3, 2, 3], 1)"
   ]
  },
  {
   "cell_type": "markdown",
   "id": "f73f9ffd-a864-4196-ad97-b5b19b8bdbaa",
   "metadata": {},
   "source": [
    "## Compute Weighted Sum at Each Node"
   ]
  },
  {
   "cell_type": "markdown",
   "id": "c27ee711-c254-4aaa-9603-b30985a46247",
   "metadata": {},
   "source": [
    "The weighted sum at each node is computed as the dot product of the inputs and the weights plus the bias. So let's create a function called *compute_weighted_sum* that does just that.\n"
   ]
  },
  {
   "cell_type": "code",
   "execution_count": 6,
   "id": "a3471169-ed55-4c83-9f18-62677fe3cebf",
   "metadata": {},
   "outputs": [],
   "source": [
    "def compute_weighted_sum(inputs, weights, bias):\n",
    "    return np.sum(inputs * weights) + bias"
   ]
  },
  {
   "cell_type": "code",
   "execution_count": 7,
   "id": "4f0611e4-f2e0-409c-8bb8-b60b1607d563",
   "metadata": {},
   "outputs": [
    {
     "name": "stdout",
     "output_type": "stream",
     "text": [
      "The inputs to the network are [0.15 0.74 0.26 0.53 0.01]\n"
     ]
    }
   ],
   "source": [
    "# generate 5 inputs that we can feed to small_network\n",
    "from random import seed\n",
    "import numpy as np\n",
    "\n",
    "np.random.seed(12)\n",
    "inputs = np.around(np.random.uniform(size=5), decimals=2)\n",
    "\n",
    "print('The inputs to the network are {}'.format(inputs))"
   ]
  },
  {
   "cell_type": "code",
   "execution_count": 8,
   "id": "07758352-e8a2-4161-8fcf-dc7e8dee32b8",
   "metadata": {},
   "outputs": [
    {
     "name": "stdout",
     "output_type": "stream",
     "text": [
      "The weighted sum at the first node in the hidden layer is 1.4415\n"
     ]
    }
   ],
   "source": [
    "# computing the weighted sum at the first node in first hidden layer\n",
    "node_weights = small_network['layer_1']['node_1']['weights']\n",
    "node_bias = small_network['layer_1']['node_1']['bias']\n",
    "\n",
    "weighted_sum = compute_weighted_sum(inputs, node_weights, node_bias)\n",
    "print('The weighted sum at the first node in the hidden layer is {}'.format(np.around(weighted_sum[0], decimals=4)))\n"
   ]
  },
  {
   "cell_type": "markdown",
   "id": "9a2721e1-54d2-4194-af1e-8ae2ccdbc6c6",
   "metadata": {},
   "source": [
    "## Compute Node Activation\n",
    "\n",
    "Using sigmoid function"
   ]
  },
  {
   "cell_type": "code",
   "execution_count": 11,
   "id": "38333f4b-d881-4255-8ff8-a53073781b57",
   "metadata": {},
   "outputs": [],
   "source": [
    "# activation function\n",
    "def node_activation(weighted_sum):\n",
    "    return 1.0 / (1.0 + np.exp(-1 * weighted_sum)) # A = 1/1+e^-x where x is weighted sum"
   ]
  },
  {
   "cell_type": "code",
   "execution_count": 12,
   "id": "bf2e94ea-93c0-438b-9db1-d5fc93acdc03",
   "metadata": {},
   "outputs": [],
   "source": [
    "def forward_propagate(network, inputs):\n",
    "    \n",
    "    layer_inputs = list(inputs) # start with the input layer as the input to the first hidden layer\n",
    "    \n",
    "    for layer in network:\n",
    "        \n",
    "        layer_data = network[layer]\n",
    "        \n",
    "        layer_outputs = [] \n",
    "        for layer_node in layer_data:\n",
    "        \n",
    "            node_data = layer_data[layer_node]\n",
    "        \n",
    "            # compute the weighted sum and the output of each node at the same time \n",
    "            node_output = node_activation(compute_weighted_sum(layer_inputs, node_data['weights'], node_data['bias']))\n",
    "            layer_outputs.append(np.around(node_output[0], decimals=4))\n",
    "            \n",
    "        if layer != 'output':\n",
    "            print('The outputs of the nodes in hidden layer number {} is {}'.format(layer.split('_')[1], layer_outputs))\n",
    "    \n",
    "        layer_inputs = layer_outputs # set the output of this layer to be the input to next layer\n",
    "\n",
    "    network_predictions = layer_outputs\n",
    "    return network_predictions"
   ]
  },
  {
   "cell_type": "code",
   "execution_count": 14,
   "id": "d784d487-4da3-4584-9554-b6dae4b449f9",
   "metadata": {},
   "outputs": [
    {
     "name": "stdout",
     "output_type": "stream",
     "text": [
      "The outputs of the nodes in hidden layer number 1 is [0.8087, 0.7998, 0.7265]\n",
      "The outputs of the nodes in hidden layer number 2 is [0.8089, 0.8796]\n",
      "The outputs of the nodes in hidden layer number 3 is [0.7688, 0.7495, 0.7235]\n",
      "The predicted value by the network for the given input is 0.738\n"
     ]
    }
   ],
   "source": [
    "# compute network predictions\n",
    "predictions = forward_propagate(small_network, inputs)\n",
    "print('The predicted value by the network for the given input is {}'.format(np.around(predictions[0], decimals=4)))"
   ]
  },
  {
   "cell_type": "markdown",
   "id": "6a332138-5db8-477d-b27a-070d11479e17",
   "metadata": {},
   "source": [
    "## DID YOU KNOW?\n",
    "\n",
    "* Deep learning is one of the hottest subjects in data science. \n",
    "* Color restoration applications can automatically convert a grayscale image into a colored image. \n",
    "* Speech enactment applications can synthesize audio clips with lip movements in videos, extracting audio from one video and syncing its lip movements with the audio from another video. \n",
    "* Handwriting generation applications can rewrite a provided message in highly realistic cursive handwriting in a wide variety of styles. \n",
    "* Deep learning algorithms are largely inspired by the way neurons and neural networks function and process data in the brain. \n",
    "* The main body of a neuron is the soma, and the extensive network of arms that stick out of the body are called dendrites. The long arm that sticks out of the soma in the other direction is called the axon.  \n",
    "* Whiskers at the end of the axon are called the synapses.  \n",
    "* Dendrites receive electrical impulses that carry information from synapses of other adjoining neurons. Dendrites carry the impulses to the soma.  \n",
    "* In the nucleus, electrical impulses are processed by combining them, and then they are passed on to the axon. The axon carries the processed information to the synapses, and the output of this neuron becomes the input to thousands of other neurons. \n",
    "* Learning in the brain occurs by repeatedly activating certain neural connections over others, and this reinforces those connections. \n",
    "* An artificial neuron behaves in the same way as a biological neuron. \n",
    "* The first layer that feeds input into the neural network is the input layer. \n",
    "* The set of nodes that provide network output is the output layer. \n",
    "* Any sets of nodes in between the input and output layers are the hidden layers. \n",
    "* Forward propagation is the process through which data passes through layers of neurons in a neural network from the input layer to the output layer.\n",
    "* Given a neural network with weights and biases, you can compute the network output for any given input. "
   ]
  },
  {
   "cell_type": "code",
   "execution_count": null,
   "id": "d25e8a33-f42a-4500-b005-f169bd4d3fe2",
   "metadata": {},
   "outputs": [],
   "source": []
  },
  {
   "cell_type": "code",
   "execution_count": null,
   "id": "5725d2ce-4ce5-42ef-b1a8-790e9ff433e6",
   "metadata": {},
   "outputs": [],
   "source": []
  }
 ],
 "metadata": {
  "kernelspec": {
   "display_name": "pytorch_env",
   "language": "python",
   "name": "pytorch_env"
  },
  "language_info": {
   "codemirror_mode": {
    "name": "ipython",
    "version": 3
   },
   "file_extension": ".py",
   "mimetype": "text/x-python",
   "name": "python",
   "nbconvert_exporter": "python",
   "pygments_lexer": "ipython3",
   "version": "3.9.21"
  }
 },
 "nbformat": 4,
 "nbformat_minor": 5
}
