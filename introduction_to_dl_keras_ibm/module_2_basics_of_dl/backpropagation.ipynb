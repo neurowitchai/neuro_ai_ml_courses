{
 "cells": [
  {
   "cell_type": "markdown",
   "id": "26913393-568b-4b64-b11f-031f97d05d3d",
   "metadata": {},
   "source": [
    "# Backpropagation\n",
    "Backpropagation is an algorithm used to train neural networks by adjusting weights to minimize the error. It works by computing the gradient of the loss function with respect to each weight, moving backward from the output layer to the input layer using the chain rule. This helps the network learn which weights contribute most to the error and how to update them efficiently.\n",
    "\n",
    "## Objective for this notebook\n",
    "* Train a Neural Network to Solve the XOR Problem\n",
    "* Implement Backpropagation for Neural Network Training\n",
    "* Demonstrate the Use of Activation Functions\n",
    "* Understand the Learning Process Over Multiple Epochs\n",
    "* Demonstrate Weight and Bias Adjustments via Gradient Descent\n",
    "* Evaluate the Model's Performance After Training\n",
    "* Monitor and Analyze the Training Process"
   ]
  },
  {
   "cell_type": "markdown",
   "id": "b9ac3273-9e44-44bc-a51f-52895f5eaede",
   "metadata": {},
   "source": [
    "## Import Required Libraries"
   ]
  },
  {
   "cell_type": "code",
   "execution_count": 2,
   "id": "a5607767-3f1f-4d54-ae7f-9979ab41f27e",
   "metadata": {},
   "outputs": [],
   "source": [
    "# Importing the required library\n",
    "import numpy as np\n",
    "import matplotlib.pyplot as plt"
   ]
  },
  {
   "cell_type": "markdown",
   "id": "8ee677c8-c506-43ae-86b0-0e3d6c10c6c2",
   "metadata": {},
   "source": [
    "## Initialize Inputs"
   ]
  },
  {
   "cell_type": "code",
   "execution_count": 3,
   "id": "45bf8284-a0a8-4e9e-95c2-90fde2240a25",
   "metadata": {},
   "outputs": [],
   "source": [
    "# Defining inputs and expected output (XOR truth table)\n",
    "X = np.array([[0, 0], [0, 1], [1, 0], [1, 1]]).T  # 2x4 matrix, each column is a training example\n",
    "d = np.array([0, 1, 1, 0])  # Expected output for XOR"
   ]
  },
  {
   "cell_type": "markdown",
   "id": "3679cef1-805f-4317-9d60-5360334a3036",
   "metadata": {},
   "source": [
    "## Declare the network params & weights\n",
    "\n",
    "initial weights are rand nums which are then optimized by the backpropagation alg inside a function param `initialize_network_parameters`"
   ]
  },
  {
   "cell_type": "code",
   "execution_count": 4,
   "id": "518f4d1f-477d-45a7-91e7-70a808812655",
   "metadata": {},
   "outputs": [],
   "source": [
    "def initialize_network_parameters():\n",
    "    # Network parameters\n",
    "    inputSize = 2      # Number of input neurons (x1, x2)\n",
    "    hiddenSize = 2     # Number of hidden neurons\n",
    "    outputSize = 1     # Number of output neurons\n",
    "    lr = 0.1           # Learning rate\n",
    "    epochs = 180000    # Number of training epochs\n",
    "\n",
    "    # Initialize weights and biases randomly within the range [-1, 1]\n",
    "    w1 = np.random.rand(hiddenSize, inputSize) * 2 - 1  # Weights from input to hidden layer\n",
    "    b1 = np.random.rand(hiddenSize, 1) * 2 - 1          # Bias for hidden layer\n",
    "    w2 = np.random.rand(outputSize, hiddenSize) * 2 - 1 # Weights from hidden to output layer\n",
    "    b2 = np.random.rand(outputSize, 1) * 2 - 1          # Bias for output layer\n",
    "\n",
    "    return w1, b1, w2, b2, lr, epochs\n"
   ]
  },
  {
   "cell_type": "markdown",
   "id": "65df03aa-cf4e-4de4-9fd6-e69c6a0ecf2a",
   "metadata": {},
   "source": [
    "## Training the NN\n",
    "5 stages\n",
    "1. Forward Pass\n",
    "2. Error calculation\n",
    "3. Backward Pass\n",
    "4. Weights and bias updates\n",
    "5. Training"
   ]
  },
  {
   "cell_type": "code",
   "execution_count": 5,
   "id": "ed68c690-1dec-4a5d-bd57-1743d3616e5b",
   "metadata": {},
   "outputs": [
    {
     "name": "stdout",
     "output_type": "stream",
     "text": [
      "Epoch: 9999, Average error: 0.49993\n",
      "Epoch: 19999, Average error: 0.49743\n",
      "Epoch: 29999, Average error: 0.06547\n",
      "Epoch: 39999, Average error: 0.03299\n",
      "Epoch: 49999, Average error: 0.02462\n",
      "Epoch: 59999, Average error: 0.02042\n",
      "Epoch: 69999, Average error: 0.01779\n",
      "Epoch: 79999, Average error: 0.01595\n",
      "Epoch: 89999, Average error: 0.01458\n",
      "Epoch: 99999, Average error: 0.01350\n",
      "Epoch: 109999, Average error: 0.01263\n",
      "Epoch: 119999, Average error: 0.01190\n",
      "Epoch: 129999, Average error: 0.01129\n",
      "Epoch: 139999, Average error: 0.01076\n",
      "Epoch: 149999, Average error: 0.01029\n",
      "Epoch: 159999, Average error: 0.00988\n",
      "Epoch: 169999, Average error: 0.00952\n",
      "Epoch: 179999, Average error: 0.00919\n"
     ]
    }
   ],
   "source": [
    "# Get initialized parameters\n",
    "w1, b1, w2, b2, lr, epochs = initialize_network_parameters()\n",
    "\n",
    "# Training the network using backpropagation\n",
    "error_list = []\n",
    "for epoch in range(epochs):\n",
    "    # Forward pass\n",
    "    z1 = np.dot(w1, X) + b1  # Weighted sum for hidden layer\n",
    "    a1 = 1 / (1 + np.exp(-z1))  # Sigmoid activation for hidden layer\n",
    "\n",
    "    z2 = np.dot(w2, a1) + b2  # Weighted sum for output layer\n",
    "    a2 = 1 / (1 + np.exp(-z2))  # Sigmoid activation for output layer\n",
    "\n",
    "    # Error calculation and backpropagation\n",
    "    error = d - a2  # Difference between expected and actual output\n",
    "    da2 = error * (a2 * (1 - a2))  # Derivative for output layer\n",
    "    dz2 = da2  # Gradient for output layer\n",
    "\n",
    "    # Propagate error to hidden layer\n",
    "    da1 = np.dot(w2.T, dz2)  # Gradient for hidden layer\n",
    "    dz1 = da1 * (a1 * (1 - a1))  # Derivative for hidden layer\n",
    "\n",
    "    # Update weights and biases\n",
    "    w2 += lr * np.dot(dz2, a1.T)  # Update weights from hidden to output layer\n",
    "    b2 += lr * np.sum(dz2, axis=1, keepdims=True)  # Update bias for output layer\n",
    "\n",
    "    w1 += lr * np.dot(dz1, X.T)  # Update weights from input to hidden layer\n",
    "    b1 += lr * np.sum(dz1, axis=1, keepdims=True)  # Update bias for hidden layer\n",
    "    if (epoch+1)%10000 == 0:\n",
    "        print(\"Epoch: %d, Average error: %0.05f\"%(epoch, np.average(abs(error))))\n",
    "        error_list.append(np.average(abs(error)))"
   ]
  },
  {
   "cell_type": "markdown",
   "id": "c76e5f11-1059-484f-bd56-267fc38845e3",
   "metadata": {},
   "source": [
    "## Testing the Network\n",
    "After training, you can now test the neural network to verify that it has learned the XOR function and outputs the correct values close to [0, 1, 1, 0]\n"
   ]
  },
  {
   "cell_type": "code",
   "execution_count": 6,
   "id": "f8e27c88-9460-4dd4-88d1-ec496f0b8af8",
   "metadata": {},
   "outputs": [
    {
     "name": "stdout",
     "output_type": "stream",
     "text": [
      "Final output after training: [[0.00857177 0.99035571 0.99035571 0.0089002 ]]\n",
      "Ground truth [0 1 1 0]\n",
      "Error after training: [[-0.0085718   0.00964432  0.00964432 -0.00890023]]\n",
      "Average error: 0.00919\n"
     ]
    }
   ],
   "source": [
    "# Testing the trained network\n",
    "z1 = np.dot(w1, X) + b1  # Weighted sum for hidden layer\n",
    "a1 = 1 / (1 + np.exp(-z1))  # Sigmoid activation for hidden layer\n",
    "\n",
    "z2 = np.dot(w2, a1) + b2  # Weighted sum for output layer\n",
    "a2 = 1 / (1 + np.exp(-z2))  # Sigmoid activation for output layer\n",
    "\n",
    "# Print results\n",
    "print('Final output after training:', a2)\n",
    "print('Ground truth', d)\n",
    "print('Error after training:', error)\n",
    "print('Average error: %0.05f'%np.average(abs(error)))\n",
    "\n"
   ]
  },
  {
   "cell_type": "markdown",
   "id": "6296bad7-73f8-484f-b9ac-9cb6f46ea5cf",
   "metadata": {},
   "source": [
    "## Plot the Error"
   ]
  },
  {
   "cell_type": "code",
   "execution_count": 7,
   "id": "e7b67d9c-dcea-487b-ab79-8fbc690e1183",
   "metadata": {},
   "outputs": [
    {
     "data": {
      "image/png": "[encoded data removed]",
      "text/plain": [
       "<Figure size 640x480 with 1 Axes>"
      ]
     },
     "metadata": {},
     "output_type": "display_data"
    }
   ],
   "source": [
    "# Plot error\n",
    "plt.plot(error_list)\n",
    "plt.title('Error')\n",
    "plt.xlabel('Epochs')\n",
    "plt.ylabel('Error')\n",
    "plt.show()"
   ]
  },
  {
   "cell_type": "markdown",
   "id": "60b1199a-7d9f-4c6b-86ef-10bc37cf1f4c",
   "metadata": {},
   "source": [
    "## AND problem"
   ]
  },
  {
   "cell_type": "code",
   "execution_count": 8,
   "id": "aea2543b-eff6-4617-9b3c-025ac7fc2d9e",
   "metadata": {},
   "outputs": [
    {
     "name": "stdout",
     "output_type": "stream",
     "text": [
      "Epoch: 9999, Average error: 0.02431\n",
      "Epoch: 19999, Average error: 0.01549\n",
      "Epoch: 29999, Average error: 0.01209\n",
      "Epoch: 39999, Average error: 0.01020\n",
      "Epoch: 49999, Average error: 0.00895\n",
      "Epoch: 59999, Average error: 0.00806\n",
      "Epoch: 69999, Average error: 0.00738\n",
      "Epoch: 79999, Average error: 0.00684\n",
      "Epoch: 89999, Average error: 0.00640\n",
      "Epoch: 99999, Average error: 0.00603\n",
      "Epoch: 109999, Average error: 0.00572\n",
      "Epoch: 119999, Average error: 0.00545\n",
      "Epoch: 129999, Average error: 0.00521\n",
      "Epoch: 139999, Average error: 0.00500\n",
      "Epoch: 149999, Average error: 0.00481\n",
      "Epoch: 159999, Average error: 0.00464\n",
      "Epoch: 169999, Average error: 0.00449\n",
      "Epoch: 179999, Average error: 0.00435\n",
      "Final output after training: [[4.20104281e-04 5.06189898e-03 5.07095892e-03 9.93150751e-01]]\n",
      "Ground truth [0 0 0 1]\n",
      "Error after training: [[-0.00042011 -0.00506191 -0.00507097  0.00684927]]\n",
      "Average error: 0.00435\n"
     ]
    },
    {
     "data": {
      "image/png": "[encoded data removed]",
      "text/plain": [
       "<Figure size 640x480 with 1 Axes>"
      ]
     },
     "metadata": {},
     "output_type": "display_data"
    }
   ],
   "source": [
    "# Write your code here\n",
    "X = np.array([[0, 0], [0, 1], [1, 0], [1, 1]]).T  # 2x4 matrix, each column is a training example\n",
    "d = np.array([0, 0, 0, 1])  # Expected output for AND\n",
    "\n",
    "w1, b1, w2, b2, lr, epochs = initialize_network_parameters()\n",
    "\n",
    "# Training the network using backpropagation\n",
    "error_list = []\n",
    "for epoch in range(epochs):\n",
    "    # Forward pass\n",
    "    z1 = np.dot(w1, X) + b1  # Weighted sum for hidden layer\n",
    "    a1 = 1 / (1 + np.exp(-z1))  # Sigmoid activation for hidden layer\n",
    "\n",
    "    z2 = np.dot(w2, a1) + b2  # Weighted sum for output layer\n",
    "    a2 = 1 / (1 + np.exp(-z2))  # Sigmoid activation for output layer\n",
    "\n",
    "    # Error calculation and backpropagation\n",
    "    error = d - a2  # Difference between expected and actual output\n",
    "    da2 = error * (a2 * (1 - a2))  # Derivative for output layer\n",
    "    dz2 = da2  # Gradient for output layer\n",
    "\n",
    "    # Propagate error to hidden layer\n",
    "    da1 = np.dot(w2.T, dz2)  # Gradient for hidden layer\n",
    "    dz1 = da1 * (a1 * (1 - a1))  # Derivative for hidden layer\n",
    "\n",
    "    # Update weights and biases\n",
    "    w2 += lr * np.dot(dz2, a1.T)  # Update weights from hidden to output layer\n",
    "    b2 += lr * np.sum(dz2, axis=1, keepdims=True)  # Update bias for output layer\n",
    "\n",
    "    w1 += lr * np.dot(dz1, X.T)  # Update weights from input to hidden layer\n",
    "    b1 += lr * np.sum(dz1, axis=1, keepdims=True)  # Update bias for hidden layer\n",
    "    if (epoch+1)%10000 == 0:\n",
    "        print(\"Epoch: %d, Average error: %0.05f\"%(epoch, np.average(abs(error))))\n",
    "        error_list.append(np.average(abs(error)))\n",
    "\n",
    "# Testing the trained network\n",
    "z1 = np.dot(w1, X) + b1  # Weighted sum for hidden layer\n",
    "a1 = 1 / (1 + np.exp(-z1))  # Sigmoid activation for hidden layer\n",
    "\n",
    "z2 = np.dot(w2, a1) + b2  # Weighted sum for output layer\n",
    "a2 = 1 / (1 + np.exp(-z2))  # Sigmoid activation for output layer\n",
    "\n",
    "# Print results\n",
    "print('Final output after training:', a2)\n",
    "print('Ground truth', d)\n",
    "print('Error after training:', error)\n",
    "print('Average error: %0.05f'%np.average(abs(error)))\n",
    "\n",
    "# Plot error\n",
    "plt.plot(error_list)\n",
    "plt.title('Error')\n",
    "plt.xlabel('Epochs')\n",
    "plt.ylabel('Error')\n",
    "plt.show()"
   ]
  },
  {
   "cell_type": "code",
   "execution_count": null,
   "id": "e0b11829-39ce-4103-922f-82e755ba7082",
   "metadata": {},
   "outputs": [],
   "source": []
  }
 ],
 "metadata": {
  "kernelspec": {
   "display_name": "pytorch_env",
   "language": "python",
   "name": "pytorch_env"
  },
  "language_info": {
   "codemirror_mode": {
    "name": "ipython",
    "version": 3
   },
   "file_extension": ".py",
   "mimetype": "text/x-python",
   "name": "python",
   "nbconvert_exporter": "python",
   "pygments_lexer": "ipython3",
   "version": "3.9.21"
  }
 },
 "nbformat": 4,
 "nbformat_minor": 5
}
