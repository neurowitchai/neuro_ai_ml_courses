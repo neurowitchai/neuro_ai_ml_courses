{
 "cells": [
  {
   "cell_type": "markdown",
   "id": "f1991a62-b9c8-4fd3-8123-6f5d50fbada0",
   "metadata": {},
   "source": [
    "# Classification Models with Keras"
   ]
  },
  {
   "cell_type": "markdown",
   "id": "893e59cc-016b-48da-8cb9-ba5680d08609",
   "metadata": {},
   "source": [
    "## Objectives for this Notebook\n",
    "* Use the MNIST database for training various image processing systems\n",
    "* Build a neural network\n",
    "* Train and test the network"
   ]
  },
  {
   "cell_type": "code",
   "execution_count": null,
   "id": "8ec2bef8-3347-44b6-8f51-c64be40eb86b",
   "metadata": {},
   "outputs": [],
   "source": [
    "!pip install tensorflow_cpu==2.18.0\n",
    "!pip install matplotlib==3.9.2\n",
    "\n",
    "print(\"==== All required libraries are installed =====\")"
   ]
  },
  {
   "cell_type": "code",
   "execution_count": null,
   "id": "1053192c-4d3a-4348-8f0f-41681375e83f",
   "metadata": {},
   "outputs": [],
   "source": [
    "import os\n",
    "os.environ['TF_ENABLE_ONEDNN_OPTS'] = '0'\n",
    "os.environ['TF_CPP_MIN_LOG_LEVEL'] = '2'"
   ]
  },
  {
   "cell_type": "code",
   "execution_count": null,
   "id": "5d561e6b-a246-4677-9304-66c161c4b405",
   "metadata": {},
   "outputs": [],
   "source": [
    "# Import Libraries\n",
    "import keras\n",
    "\n",
    "from keras.models import Sequential\n",
    "from keras.layers import Dense\n",
    "from keras.layers import Input\n",
    "from keras.utils import to_categorical"
   ]
  },
  {
   "cell_type": "code",
   "execution_count": null,
   "id": "fde4a93f-0303-47af-87ae-4ecca7d41e36",
   "metadata": {},
   "outputs": [],
   "source": [
    "import matplotlib.pyplot as plt"
   ]
  },
  {
   "cell_type": "code",
   "execution_count": null,
   "id": "1e565a58-d154-4724-87e7-cf26518771e5",
   "metadata": {},
   "outputs": [],
   "source": [
    "# import the data\n",
    "from keras.datasets import mnist\n",
    "\n",
    "# read the data\n",
    "(X_train, y_train), (X_test, y_test) = mnist.load_data()"
   ]
  },
  {
   "cell_type": "code",
   "execution_count": null,
   "id": "856cf7af-9076-499b-a59b-1558cb89ce80",
   "metadata": {},
   "outputs": [],
   "source": [
    "X_train.shape"
   ]
  },
  {
   "cell_type": "code",
   "execution_count": null,
   "id": "972c5916-1b16-4cbb-baaa-a073e74be6e1",
   "metadata": {},
   "outputs": [],
   "source": [
    "plt.imshow(X_train[0])"
   ]
  },
  {
   "cell_type": "markdown",
   "id": "93422dfe-6b48-47d9-a53b-51448251f3cb",
   "metadata": {},
   "source": [
    "With conventional neural networks, we cannot feed in the image as input as is. So we need to flatten the images into one-dimensional vectors, each of size 1 x (28 x 28) = 1 x 784."
   ]
  },
  {
   "cell_type": "code",
   "execution_count": null,
   "id": "2d8f23e7-01c0-4b36-86db-9fd27791229d",
   "metadata": {},
   "outputs": [],
   "source": [
    "# flatten images into one-dimensional vector\n",
    "\n",
    "num_pixels = X_train.shape[1] * X_train.shape[2] # find size of one-dimensional vector\n",
    "\n",
    "X_train = X_train.reshape(X_train.shape[0], num_pixels).astype('float32') # flatten training images\n",
    "X_test = X_test.reshape(X_test.shape[0], num_pixels).astype('float32') # flatten test images"
   ]
  },
  {
   "cell_type": "code",
   "execution_count": null,
   "id": "58df2a08-42ba-4ba9-82cf-90e021ce09ce",
   "metadata": {},
   "outputs": [],
   "source": [
    "# Since pixel values can range from 0 to 255, let's normalize the vectors to be \n",
    "#    between 0 and 1.\n",
    "# normalize inputs from 0-255 to 0-1\n",
    "X_train = X_train / 255\n",
    "X_test = X_test / 255"
   ]
  },
  {
   "cell_type": "code",
   "execution_count": null,
   "id": "246244a9-2bd6-43e2-92e2-7155ba12f1a9",
   "metadata": {},
   "outputs": [],
   "source": [
    "# one hot encode outputs\n",
    "y_train = to_categorical(y_train)\n",
    "y_test = to_categorical(y_test)\n",
    "\n",
    "num_classes = y_test.shape[1]\n",
    "print(num_classes)"
   ]
  },
  {
   "cell_type": "markdown",
   "id": "3e474e68-9640-43cf-a7ad-00d87d6a0b34",
   "metadata": {},
   "source": [
    "## Build a NN"
   ]
  },
  {
   "cell_type": "code",
   "execution_count": null,
   "id": "cbce5a56-e00d-49fd-9629-68b23d0679db",
   "metadata": {},
   "outputs": [],
   "source": [
    "# define classification model\n",
    "def classification_model():\n",
    "    \n",
    "    # create model\n",
    "    model = Sequential()\n",
    "    model.add(Input(shape=(num_pixels,)))\n",
    "    model.add(Dense(num_pixels, activation='relu'))\n",
    "    model.add(Dense(100, activation='relu'))\n",
    "    model.add(Dense(num_classes, activation='softmax'))\n",
    "    \n",
    "    # compile model\n",
    "    model.compile(optimizer='adam', loss='categorical_crossentropy', metrics=['accuracy'])\n",
    "    return model"
   ]
  },
  {
   "cell_type": "markdown",
   "id": "59b34cf8-fa57-41fc-846a-0c38945d925e",
   "metadata": {},
   "source": [
    "## Train and test network"
   ]
  },
  {
   "cell_type": "code",
   "execution_count": null,
   "id": "b28f63a0-555e-4297-aa8e-f938c0c58bb3",
   "metadata": {},
   "outputs": [],
   "source": [
    "# build the model\n",
    "model = classification_model()\n",
    "\n",
    "# fit the model\n",
    "model.fit(X_train, y_train, validation_data=(X_test, y_test), epochs=10, verbose=2)\n",
    "\n",
    "# evaluate the model\n",
    "scores = model.evaluate(X_test, y_test, verbose=0)"
   ]
  },
  {
   "cell_type": "code",
   "execution_count": null,
   "id": "e844beab-deb9-4862-a758-9757b636ca14",
   "metadata": {},
   "outputs": [],
   "source": [
    "# print accuracy and err\n",
    "print('Accuracy: {}% \\n Error: {}'.format(scores[1], 1 - scores[1]))        "
   ]
  },
  {
   "cell_type": "markdown",
   "id": "0bbf6688-cb4c-44cd-9f65-11f060e58bf2",
   "metadata": {},
   "source": [
    "Just running 10 epochs could actually take over 20 minutes. But enjoy the results as they are getting generated.\n",
    "\n",
    "Sometimes, you cannot afford to retrain your model everytime you want to use it, especially if you are limited on computational resources and training your model can take a long time. Therefore, with the Keras library, you can save your model after training. To do that, we use the save method."
   ]
  },
  {
   "cell_type": "code",
   "execution_count": null,
   "id": "88525e82-7660-4c08-9467-9bb34e2c111b",
   "metadata": {},
   "outputs": [],
   "source": [
    "model.save('classification_model.keras')"
   ]
  },
  {
   "cell_type": "code",
   "execution_count": null,
   "id": "6d638be3-7f7a-4ec1-be89-79f0df8ca0eb",
   "metadata": {},
   "outputs": [],
   "source": [
    "# ready to use model again, use load_model\n",
    "pretrained_model = keras.saving.load_model('classification_model.keras')"
   ]
  }
 ],
 "metadata": {
  "kernelspec": {
   "display_name": "Python 3 (ipykernel)",
   "language": "python",
   "name": "python3"
  },
  "language_info": {
   "codemirror_mode": {
    "name": "ipython",
    "version": 3
   },
   "file_extension": ".py",
   "mimetype": "text/x-python",
   "name": "python",
   "nbconvert_exporter": "python",
   "pygments_lexer": "ipython3",
   "version": "3.11.5"
  }
 },
 "nbformat": 4,
 "nbformat_minor": 5
}
