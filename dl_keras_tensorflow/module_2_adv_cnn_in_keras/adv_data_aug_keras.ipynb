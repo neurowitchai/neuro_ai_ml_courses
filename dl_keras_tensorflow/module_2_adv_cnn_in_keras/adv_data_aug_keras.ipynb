{
 "cells": [
  {
   "cell_type": "markdown",
   "id": "bae7d014-b019-40f7-a3a6-ec0db128ed47",
   "metadata": {},
   "source": [
    "# Advanced Data Augmentation with Keras"
   ]
  },
  {
   "cell_type": "markdown",
   "id": "c89332ce-f4dd-41b7-9424-b671da312dd5",
   "metadata": {},
   "source": [
    "#### Learning objectives \n",
    "\n",
    "By the end of this lab, you will: \n",
    "\n",
    "- Implement various data augmentation techniques using Keras \n",
    "- Implement feature-wise and sample-wise normalization on the data set. \n",
    "- Define and apply a custom augmentation function that adds random noise to images. \n",
    "- Display the augmented images to understand the effect of different augmentation techniques.  "
   ]
  },
  {
   "cell_type": "code",
   "execution_count": null,
   "id": "eda28fb1-5192-4dbb-9b2c-c6334794eb9a",
   "metadata": {},
   "outputs": [],
   "source": [
    "# Install required libraries\n",
    "!pip install tensorflow==2.16.2 matplotlib==3.9.1 scipy\n",
    "\n",
    "# Import necessary libraries\n",
    "import tensorflow as tf\n",
    "import numpy as np\n",
    "import matplotlib.pyplot as plt\n",
    "from tensorflow.keras.preprocessing.image import ImageDataGenerator\n",
    "\n",
    "# Load CIFAR-10 dataset for training images\n",
    "(x_train, y_train), (x_test, y_test) = tf.keras.datasets.cifar10.load_data()\n",
    "\n",
    "# Normalize the pixel values for augmentation\n",
    "x_train = x_train.astype('float32') / 255.0\n",
    "x_test = x_test.astype('float32') / 255.0\n",
    "\n",
    "# Display a sample of the training images\n",
    "plt.figure(figsize=(10, 10))\n",
    "for i in range(16):\n",
    "    plt.subplot(4, 4, i+1)\n",
    "    plt.imshow(x_train[i])\n",
    "    plt.axis('off')\n",
    "plt.show()\n"
   ]
  },
  {
   "cell_type": "code",
   "execution_count": null,
   "id": "bda2fabd-039e-481b-9387-912ad45405dc",
   "metadata": {},
   "outputs": [],
   "source": [
    "# create sample.jpg for the lab\n",
    "from PIL import Image, ImageDraw\n",
    "\n",
    "# Create a blank white image\n",
    "image = Image.new('RGB', (224, 224), color = (255, 255, 255))\n",
    "\n",
    "# Draw a red square\n",
    "draw = ImageDraw.Draw(image)\n",
    "draw.rectangle([(50, 50), (174, 174)], fill = (255, 0, 0))\n",
    "\n",
    "# Save the image\n",
    "image.save('sample.jpg')\n"
   ]
  },
  {
   "cell_type": "code",
   "execution_count": null,
   "id": "e288511a-fcfc-45d5-8820-12aa5c9729a1",
   "metadata": {},
   "outputs": [],
   "source": [
    "import numpy as np \n",
    "import matplotlib.pyplot as plt \n",
    "from tensorflow.keras.preprocessing.image import ImageDataGenerator, load_img, img_to_array \n",
    "\n",
    "# Load a sample image \n",
    "img_path = 'sample.jpg' \n",
    "img = load_img(img_path) \n",
    "x = img_to_array(img) \n",
    "x = np.expand_dims(x, axis=0) "
   ]
  },
  {
   "cell_type": "markdown",
   "id": "1bf66950-330d-4c3e-bc73-8b5f15d95fd1",
   "metadata": {},
   "source": [
    "#### Basic data augmentation\n",
    "Apply basic augmentations such as rotation, width shift, height shift, shear, zoom, and horizontal flip using the ImageDataGenerator as follows:"
   ]
  },
  {
   "cell_type": "code",
   "execution_count": null,
   "id": "99f9b1f3-a4ce-44d1-a2f2-ef019aa89a58",
   "metadata": {},
   "outputs": [],
   "source": [
    "import numpy as np\n",
    "import matplotlib.pyplot as plt\n",
    "from tensorflow.keras.preprocessing.image import ImageDataGenerator, load_img, img_to_array\n",
    "\n",
    "# Load the sample image\n",
    "img_path = 'sample.jpg'\n",
    "img = load_img(img_path)\n",
    "x = img_to_array(img)\n",
    "x = np.expand_dims(x, axis=0)\n",
    "\n",
    "# Create an instance of ImageDataGenerator with basic augmentations\n",
    "datagen = ImageDataGenerator(\n",
    "    rotation_range=40,\n",
    "    width_shift_range=0.2,\n",
    "    height_shift_range=0.2,\n",
    "    shear_range=0.2,\n",
    "    zoom_range=0.2,\n",
    "    horizontal_flip=True,\n",
    "    fill_mode='nearest'\n",
    ")\n",
    "\n",
    "# Generate batches of augmented images\n",
    "i = 0\n",
    "for batch in datagen.flow(x, batch_size=1):\n",
    "    plt.figure(i)\n",
    "    imgplot = plt.imshow(batch[0].astype('uint8'))\n",
    "    i += 1\n",
    "    if i % 4 == 0:\n",
    "        break\n",
    "\n",
    "plt.show()\n"
   ]
  },
  {
   "cell_type": "markdown",
   "id": "63c4e366-5082-4471-bbfd-ceadbb43992d",
   "metadata": {},
   "source": [
    "\n",
    "#### Step 3: Feature-wise and sample-wise normalization \n",
    "\n",
    "Implement feature-wise and sample-wise normalization on the data set as follows:    \n"
   ]
  },
  {
   "cell_type": "code",
   "execution_count": null,
   "id": "0b2af69c-74af-4377-8031-1223a8c22819",
   "metadata": {},
   "outputs": [],
   "source": [
    "# Create an instance of ImageDataGenerator with normalization options\n",
    "datagen = ImageDataGenerator(\n",
    "    featurewise_center=True,\n",
    "    featurewise_std_normalization=True,\n",
    "    samplewise_center=True,\n",
    "    samplewise_std_normalization=True\n",
    ")\n",
    "\n",
    "# Load the sample image again and fit the generator (normally done on the training set)\n",
    "datagen.fit(x)\n",
    "\n",
    "# Generate batches of normalized images\n",
    "i = 0\n",
    "for batch in datagen.flow(x, batch_size=1):\n",
    "    plt.figure(i)\n",
    "    imgplot = plt.imshow(batch[0].astype('uint8'))\n",
    "    i += 1\n",
    "    if i % 4 == 0:\n",
    "        break\n",
    "\n",
    "plt.show()\n"
   ]
  },
  {
   "cell_type": "markdown",
   "id": "569be124-57d9-499c-9b0a-28757408dfba",
   "metadata": {},
   "source": [
    "#### Add random noise"
   ]
  },
  {
   "cell_type": "code",
   "execution_count": null,
   "id": "bc3f5ec1-c33e-48e8-aa58-bd49edb5a3e5",
   "metadata": {},
   "outputs": [],
   "source": [
    "# Define a custom data augmentation function\n",
    "def add_random_noise(image):\n",
    "    noise = np.random.normal(0, 0.1, image.shape)\n",
    "    return image + noise\n",
    "\n",
    "# Create an instance of ImageDataGenerator with the custom augmentation\n",
    "datagen = ImageDataGenerator(preprocessing_function=add_random_noise)\n",
    "\n",
    "# Generate batches of augmented images with noise\n",
    "i = 0\n",
    "for batch in datagen.flow(x, batch_size=1):\n",
    "    plt.figure(i)\n",
    "    imgplot = plt.imshow(batch[0].astype('uint8'))\n",
    "    i += 1\n",
    "    if i % 4 == 0:\n",
    "        break\n",
    "\n",
    "plt.show()"
   ]
  },
  {
   "cell_type": "markdown",
   "id": "99451a28-3210-46c9-92e9-476092ad9d11",
   "metadata": {},
   "source": [
    "#### visualize augmented images"
   ]
  },
  {
   "cell_type": "code",
   "execution_count": null,
   "id": "3f009514-5986-48c2-ab15-08a1068f47b8",
   "metadata": {},
   "outputs": [],
   "source": [
    "# Visualizing multiple augmented versions of the same image\n",
    "plt.figure(figsize=(10, 10))\n",
    "for i, batch in enumerate(datagen.flow(x, batch_size=1)):\n",
    "    if i >= 4:  # Show only 4 versions\n",
    "        break\n",
    "    plt.subplot(2, 2, i+1)\n",
    "    plt.imshow(batch[0].astype('uint8'))\n",
    "plt.show()\n"
   ]
  },
  {
   "cell_type": "markdown",
   "id": "551dc202-a597-4ccc-9c2b-69bcf459ab50",
   "metadata": {},
   "source": [
    "## Practice Exercises"
   ]
  },
  {
   "cell_type": "code",
   "execution_count": null,
   "id": "fafd6219-2b4a-4d91-a68a-c7af5fcddca9",
   "metadata": {},
   "outputs": [],
   "source": [
    "# download sample images for exercises\n",
    "!wget https://cf-courses-data.s3.us.cloud-object-storage.appdomain.cloud/RgP3JFNtPTZA34UmG3KZaA/sample-images.zip"
   ]
  },
  {
   "cell_type": "code",
   "execution_count": null,
   "id": "fb578e2d-e4e8-4e29-9e12-a324a1fe28dd",
   "metadata": {},
   "outputs": [],
   "source": [
    "# extract images\n",
    "!unzip sample-images.zip "
   ]
  },
  {
   "cell_type": "code",
   "execution_count": 2,
   "id": "81bdfd81-5895-427a-9d62-6d2798591525",
   "metadata": {},
   "outputs": [],
   "source": [
    "#practice above"
   ]
  },
  {
   "cell_type": "code",
   "execution_count": null,
   "id": "5224fdb4-0570-4aea-8ea4-6d36dcf5bf94",
   "metadata": {},
   "outputs": [],
   "source": []
  }
 ],
 "metadata": {
  "kernelspec": {
   "display_name": "Python 3 (ipykernel)",
   "language": "python",
   "name": "python3"
  },
  "language_info": {
   "codemirror_mode": {
    "name": "ipython",
    "version": 3
   },
   "file_extension": ".py",
   "mimetype": "text/x-python",
   "name": "python",
   "nbconvert_exporter": "python",
   "pygments_lexer": "ipython3",
   "version": "3.11.5"
  }
 },
 "nbformat": 4,
 "nbformat_minor": 5
}
